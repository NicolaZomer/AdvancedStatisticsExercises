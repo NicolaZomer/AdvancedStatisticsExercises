{
    "cells": [
        {
            "cell_type": "markdown",
            "metadata": {},
            "source": "\n"
        },
        {
            "cell_type": "code",
            "execution_count": null,
            "metadata": {},
            "outputs": [],
            "source": [
                "# tidyverse\n",
                "library(ggplot2)\n",
                "library(readr)\n",
                "library(tibble)\n",
                "library(glue)\n",
                "\n",
                "# others\n",
                "library(latex2exp)\n",
                "library(scales)\n"
            ]
        },
        {
            "cell_type": "markdown",
            "metadata": {},
            "source": [
                "# Exercise 1 - Vectors and data frames\n",
                "\n"
            ]
        },
        {
            "cell_type": "code",
            "execution_count": null,
            "metadata": {},
            "outputs": [],
            "source": [
                "df_lakes <- read.csv(\"../data/lochs_of_Scotland.csv\", header=TRUE, sep=\",\")\n",
                "df_lakes\n"
            ]
        },
        {
            "cell_type": "markdown",
            "metadata": {},
            "source": "\n"
        },
        {
            "cell_type": "code",
            "execution_count": null,
            "metadata": {},
            "outputs": [],
            "source": [
                "# Remove columns not containing volume or area and in [mi]\n",
                "df_lakes <- df_lakes[, c(1, 2, 4)]\n",
                "\n",
                "# Rename the columns\n",
                "colnames(df_lakes) <- c('Loch', 'Volume', 'Area')\n",
                "df_lakes\n"
            ]
        },
        {
            "cell_type": "markdown",
            "metadata": {},
            "source": [
                "## 1. Evaluate the highest and lowest volume and area lake\n",
                "\n"
            ]
        },
        {
            "cell_type": "code",
            "execution_count": null,
            "metadata": {},
            "outputs": [],
            "source": [
                "# indices \n",
                "idx_max_vol <- which.max(df_lakes$Volume)\n",
                "idx_min_vol <- which.min(df_lakes$Volume)\n",
                "idx_max_area <- which.max(df_lakes$Area)\n",
                "idx_min_area <- which.min(df_lakes$Area)\n",
                "\n",
                "# results \n",
                "\n",
                "cat(\n",
                "  'Highest volume lake:', df_lakes$Loch[idx_max_vol], ', with volume ', df_lakes$Volume[idx_max_vol], 'km^3\\n',\n",
                "  'Lowest volume lake:', df_lakes$Loch[idx_min_vol], ', with volume ', df_lakes$Volume[idx_min_vol], 'km^3\\n', \n",
                "  'Highest area lake:', df_lakes$Loch[idx_max_area], ', with area ', df_lakes$Area[idx_max_area], 'km^2\\n',\n",
                "  'Lowest area lake:', df_lakes$Loch[idx_min_area], ', with area ', df_lakes$Area[idx_min_area], 'km^2'\n",
                "  \n",
                "  )\n"
            ]
        },
        {
            "cell_type": "markdown",
            "metadata": {},
            "source": [
                "## 2. Order the frame with respect to the area and determine the two largest area lakes\n",
                "\n",
                "Ordered dataframe:\n"
            ]
        },
        {
            "cell_type": "code",
            "execution_count": null,
            "metadata": {},
            "outputs": [],
            "source": [
                "lakes_byarea <- df_lakes[order(df_lakes$Area, decreasing=TRUE), ]\n",
                "lakes_byarea \n"
            ]
        },
        {
            "cell_type": "markdown",
            "metadata": {},
            "source": "\n"
        },
        {
            "cell_type": "code",
            "execution_count": null,
            "metadata": {},
            "outputs": [],
            "source": [
                "largest_area_2 = lakes_byarea$Loch[1:2]\n",
                "\n",
                "glue('2 largest area lakes: {largest_area_2[1]} and {largest_area_2[2]}')\n"
            ]
        },
        {
            "cell_type": "markdown",
            "metadata": {},
            "source": [
                "## 3. By summing up the areas occupied by the lakes, determine the area of Scotland covered by water\n",
                "\n"
            ]
        },
        {
            "cell_type": "code",
            "execution_count": null,
            "metadata": {},
            "outputs": [],
            "source": [
                "area_water <- sum(df_lakes$Area)\n",
                "glue('Area of Scotland covered by water: {area_water} km^2')\n"
            ]
        },
        {
            "cell_type": "markdown",
            "metadata": {},
            "source": [
                "Reference and data: <https://en.wikipedia.org/wiki/List_of_lochs_of_Scotland>\n",
                "\n",
                "# Exercise 2 - Crude Oil Production\n",
                "\n",
                "## 1. Write R code that is able to read the \ffile and import it in a data frame structure\n",
                "\n",
                "The last column of the data frame contains data on crude oil prices from 1861 to 2020, measured in US dollars per barrel.\n"
            ]
        },
        {
            "cell_type": "code",
            "execution_count": null,
            "metadata": {},
            "outputs": [],
            "source": [
                "df_oilprices <- read.csv(\"../data/crude-oil-prices.csv\", header=TRUE, sep=\",\")\n",
                "colnames(df_oilprices) <- c(names(df_oilprices[1:3]), 'Price') \n",
                "\n",
                "df_oilprices\n"
            ]
        },
        {
            "cell_type": "markdown",
            "metadata": {},
            "source": [
                "## 2. Produce a plot with the Oil price as a function of the year\n",
                "\n"
            ]
        },
        {
            "cell_type": "code",
            "execution_count": null,
            "metadata": {},
            "outputs": [],
            "source": [
                "gg <- ggplot(df_oilprices, aes(x=Year, y=Price))+\n",
                "  geom_point(col='navyblue') + \n",
                "  labs(title=\"Crude Oil Prices from 1861 to 2020 ($/barrel)\", \n",
                "       y=\"Price\",\n",
                "       x='Year', \n",
                "       caption = \"Source: https://ourworldindata.org/grapher/crude-oil-prices\") +\n",
                "  scale_y_continuous(\n",
                "    breaks = seq(0, 120, 15),\n",
                "    minor_breaks = NULL\n",
                "  ) + \n",
                "  scale_x_continuous(\n",
                "    breaks = seq(1850, 2050, 25),\n",
                "    minor_breaks = NULL,\n",
                "    limits=c(1850, 2025)\n",
                "  )+\n",
                "  theme_bw()\n",
                "\n",
                "\n",
                "plot(gg)\n"
            ]
        },
        {
            "cell_type": "markdown",
            "metadata": {},
            "source": [
                "## 3. Which is the highest price in history ? When did it occur ?\n",
                "\n"
            ]
        },
        {
            "cell_type": "code",
            "execution_count": null,
            "metadata": {},
            "outputs": [],
            "source": [
                "highest_price <- max(df_oilprices$Price)\n",
                "highest_price_year <- df_oilprices$Year[which.max(df_oilprices$Price)]\n",
                "\n",
                "glue('Highest price in hystory: {format(highest_price, digits=5)} $/barrel.\\n\n",
                "  It occured in {highest_price_year}.')\n"
            ]
        },
        {
            "cell_type": "markdown",
            "metadata": {},
            "source": [
                "## 4. Plot the derivative of the curve, simply evaluated with the fi\fnite difference formula\n",
                "\n",
                "$$\n",
                "\\frac{\\partial price}{\\partial year} = price_{j+1}-price{j}\n",
                "$$\n"
            ]
        },
        {
            "cell_type": "code",
            "execution_count": null,
            "metadata": {},
            "outputs": [],
            "source": [
                "prices <- df_oilprices$Price\n",
                "years <- df_oilprices$Year\n",
                "derivatives <- prices[2:length(prices)]-prices[1:length(prices)-1]\n",
                "\n",
                "df_derivatives <- data.frame(years[1:length(years)-1], derivatives)\n",
                "colnames(df_derivatives) <- c('Year', 'Derivative')\n",
                "\n",
                "head(df_derivatives)\n"
            ]
        },
        {
            "cell_type": "markdown",
            "metadata": {},
            "source": "\n"
        },
        {
            "cell_type": "code",
            "execution_count": null,
            "metadata": {},
            "outputs": [],
            "source": [
                "gg <- ggplot(df_derivatives, aes(x=Year, y=Derivative))+\n",
                "  geom_point(col='navyblue') + \n",
                "  labs(title=\"Annual Variation of Crude Oil Prices from 1861 to 2020 ($/barrel)\", \n",
                "       y=TeX(\"$\\\\Delta$Price\"),\n",
                "       x='Year', \n",
                "       caption = \"Source: https://ourworldindata.org/grapher/crude-oil-prices\") +\n",
                "  scale_x_continuous(\n",
                "    breaks = seq(1850, 2050, 25),\n",
                "    minor_breaks = NULL,\n",
                "    limits=c(1850, 2025)\n",
                "  ) +\n",
                "  scale_y_continuous(\n",
                "    breaks = seq(-45, 45, 15),\n",
                "    minor_breaks = NULL,\n",
                "  )+\n",
                "  theme_bw()\n",
                "\n",
                "plot(gg)\n"
            ]
        },
        {
            "cell_type": "markdown",
            "metadata": {},
            "source": [
                "Reference and data: <https://ourworldindata.org/grapher/crude-oil-prices>\n",
                "\n",
                "# Exercise 3 - World Coal Production\n",
                "\n",
                "## 1. Write R code that is able to read the \ffile and import it in a tibble structure\n"
            ]
        },
        {
            "cell_type": "code",
            "execution_count": null,
            "metadata": {},
            "outputs": [],
            "source": [
                "coal_prod <- read_csv(\"../data/coal-production-by-country.csv\", col_names=TRUE)\n",
                "colnames(coal_prod) <- c(names(coal_prod[1:3]), 'Production')\n",
                "\n",
                "coal_prod\n"
            ]
        },
        {
            "cell_type": "markdown",
            "metadata": {},
            "source": "\n"
        },
        {
            "cell_type": "code",
            "execution_count": null,
            "metadata": {},
            "outputs": [],
            "source": [
                "is_tibble(coal_prod)\n",
                "\n"
            ]
        },
        {
            "cell_type": "markdown",
            "metadata": {},
            "source": [
                "## 2. Count the number of countries available in the fi\fle and produce a barplot with the number of entries for each country\n",
                "\n"
            ]
        },
        {
            "cell_type": "code",
            "execution_count": null,
            "metadata": {},
            "outputs": [],
            "source": [
                "countries <- unique(coal_prod$Entity)\n",
                "cat('Number of countries:', length(countries))\n"
            ]
        },
        {
            "cell_type": "markdown",
            "metadata": {},
            "source": "\n"
        },
        {
            "cell_type": "code",
            "execution_count": null,
            "metadata": {},
            "outputs": [],
            "source": [
                "gg <- ggplot(data=coal_prod, aes(x=Entity)) +\n",
                "  geom_bar(stat = \"count\", width=0.7, fill=\"steelblue\") + \n",
                "  coord_flip() +\n",
                "  scale_x_discrete(limits=rev) +\n",
                "  labs(title=\"Number of entries for each country\", \n",
                "       x=\"Country\",\n",
                "       y=\"Count\", \n",
                "       caption = \"Source: https://ourworldindata.org/grapher/coal-production-by-country\") +\n",
                "  theme_bw()\n",
                "\n",
                "gg\n"
            ]
        },
        {
            "cell_type": "markdown",
            "metadata": {},
            "source": [
                "## 3. Selecting only the year after 1970, determine the total integrated production for each country and print the top 5 countries with highest coal productions\n",
                "\n",
                "## 4. For the 5 top Countries, create a plot of production as a function of time\n",
                "\n",
                "## 5. Generate a plot with the cumulative sum of the World's coal production over the years\n",
                "\n",
                "Reference and data: <https://ourworldindata.org/grapher/coal-production-by-country>\n",
                "\n",
                "# Exercise 4 - Covid19 Vaccine data\n",
                "\n",
                "## File 'vaccinations-by-manufacturer.csv'\n",
                "\n",
                "### 1. Filter() the original tibble by selecting the following countries: Italy\n",
                "\n",
                "### 2. Plot the number of vaccines given as a function of time for the different vaccine manufacturer\n",
                "\n",
                "### 3. From the same tibble plot the total number of vaccines shot per day in Italy\n",
                "\n",
                "### 4. Do the same exercise for the following countries: Germany and United States of America\n",
                "\n",
                "Data: <https://github.com/owid/covid-19-data/blob/master/public/data/vaccinations/vaccinations-by-manufacturer.csv>\n",
                "\n",
                "## File 'vaccinations.csv'\n",
                "\n",
                "### 1. Selecting all the European countries in the tibble, plot the number of daily vaccinations per million as a function of date\n",
                "\n",
                "### 2. Study the data structure and produce few relevant plots of your taste\n",
                "\n",
                "Data: <https://github.com/owid/covid-19-data/blob/master/public/data/vaccinations/vaccinations.csv>\n",
                "\n",
                "## \n"
            ]
        }
    ],
    "metadata": {
        "anaconda-cloud": "",
        "kernelspec": {
            "display_name": "R",
            "langauge": "R",
            "name": "ir"
        },
        "language_info": {
            "codemirror_mode": "r",
            "file_extension": ".r",
            "mimetype": "text/x-r-source",
            "name": "R",
            "pygments_lexer": "r",
            "version": "3.4.1"
        }
    },
    "nbformat": 4,
    "nbformat_minor": 1
}
